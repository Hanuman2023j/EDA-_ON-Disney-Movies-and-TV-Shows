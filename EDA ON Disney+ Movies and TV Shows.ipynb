{
 "cells": [
  {
   "cell_type": "markdown",
   "id": "037bfb3b-d5f7-4e0f-b734-213207c5de50",
   "metadata": {},
   "source": [
    "#### <p style=\"font-family:JetBrains Mono; font-weight:bold; letter-spacing: 2px; color:#006600; font-size:140%; text-align:left;padding: 0px; border-bottom: 3px solid #003300\"> 🎫 EDA ON Disney+ Movies and TV Shows</p>\n",
    "<img src = \"https://www.streamingrant.com/wp-content/uploads/2021/07/40-Best-Shows-on-DisneyPlus-Variation.jpg\" align=\"center\" width=700 />\n"
   ]
  },
  {
   "cell_type": "markdown",
   "id": "ecec1086-87c6-4a5d-ba78-c2365c6e5326",
   "metadata": {},
   "source": [
    "#### <p style=\"font-family:JetBrains Mono; font-weight:bold; letter-spacing: 2px; color:#006600; font-size:140%; text-align:left;padding: 0px; border-bottom: 3px solid #003300\"> 🎫 INTRODUCTION </p>"
   ]
  },
  {
   "cell_type": "markdown",
   "id": "687df1d9-202b-4f2b-ac35-475b00c6fb1d",
   "metadata": {},
   "source": [
    "### The dataset consists of meta details about the movies and tv shows such as the title, director, and cast of the shows / movies. Details such as the release year, the rating, duration etc. As the first step, let's load the dataset, create some new features. In this kernel, I have analysed this dataset to find top insights and findings.\n",
    "\n",
    "### Disney+ is another one of the most popular media and video streaming platforms. They have close to 1300 movies or tv shows available on their platform, as of mid-2021, they have over 116M Subscribers globally. This tabular dataset consists of listings of all the movies and tv shows available on Amazon Prime, along with details such as - cast, directors, ratings, release year, duration, etc"
   ]
  },
  {
   "cell_type": "markdown",
   "id": "73bfb9df-a133-4440-a3df-99c532eafc70",
   "metadata": {
    "tags": []
   },
   "source": [
    "#### <p style=\"font-family:JetBrains Mono; font-weight:bold; letter-spacing: 2px; color:#006600; font-size:140%; text-align:left;padding: 0px; border-bottom: 3px solid #003300\"> 🎫 Import libraries</p>"
   ]
  },
  {
   "cell_type": "code",
   "execution_count": 1,
   "id": "ad893ef7-b56d-4028-9e75-803a50a44702",
   "metadata": {},
   "outputs": [
    {
     "name": "stdout",
     "output_type": "stream",
     "text": [
      " Libries Imported Successfully\n"
     ]
    }
   ],
   "source": [
    "import pandas as pd\n",
    "import numpy as np\n",
    "import matplotlib.pyplot as plt\n",
    "%matplotlib inline \n",
    "import seaborn as sns\n",
    "print(\" Libries Imported Successfully\")"
   ]
  },
  {
   "cell_type": "markdown",
   "id": "728896e5-22ae-4067-861d-433d054a7fad",
   "metadata": {},
   "source": [
    "## About Data\n",
    "- Read data\n",
    "- Shape of data\n",
    "- Head and Tail\n",
    "- Data info\n",
    "- Data dtypes\n",
    "- Checking null values\n",
    "    \n",
    "   "
   ]
  },
  {
   "cell_type": "markdown",
   "id": "6b7449d6-a399-4abf-a54d-dacdc68061df",
   "metadata": {},
   "source": [
    "### Read data"
   ]
  },
  {
   "cell_type": "code",
   "execution_count": 2,
   "id": "ab49da3c-f492-435a-830c-58be61f29fa1",
   "metadata": {},
   "outputs": [
    {
     "data": {
      "text/html": [
       "<div>\n",
       "<style scoped>\n",
       "    .dataframe tbody tr th:only-of-type {\n",
       "        vertical-align: middle;\n",
       "    }\n",
       "\n",
       "    .dataframe tbody tr th {\n",
       "        vertical-align: top;\n",
       "    }\n",
       "\n",
       "    .dataframe thead th {\n",
       "        text-align: right;\n",
       "    }\n",
       "</style>\n",
       "<table border=\"1\" class=\"dataframe\">\n",
       "  <thead>\n",
       "    <tr style=\"text-align: right;\">\n",
       "      <th></th>\n",
       "      <th>show_id</th>\n",
       "      <th>type</th>\n",
       "      <th>title</th>\n",
       "      <th>director</th>\n",
       "      <th>cast</th>\n",
       "      <th>country</th>\n",
       "      <th>date_added</th>\n",
       "      <th>release_year</th>\n",
       "      <th>rating</th>\n",
       "      <th>duration</th>\n",
       "      <th>listed_in</th>\n",
       "      <th>description</th>\n",
       "    </tr>\n",
       "  </thead>\n",
       "  <tbody>\n",
       "    <tr>\n",
       "      <th>0</th>\n",
       "      <td>s1</td>\n",
       "      <td>Movie</td>\n",
       "      <td>Duck the Halls: A Mickey Mouse Christmas Special</td>\n",
       "      <td>Alonso Ramirez Ramos, Dave Wasson</td>\n",
       "      <td>Chris Diamantopoulos, Tony Anselmo, Tress MacN...</td>\n",
       "      <td>NaN</td>\n",
       "      <td>26-Nov-21</td>\n",
       "      <td>2016</td>\n",
       "      <td>TV-G</td>\n",
       "      <td>23 min</td>\n",
       "      <td>Animation, Family</td>\n",
       "      <td>Join Mickey and the gang as they duck the halls!</td>\n",
       "    </tr>\n",
       "    <tr>\n",
       "      <th>1</th>\n",
       "      <td>s2</td>\n",
       "      <td>Movie</td>\n",
       "      <td>Ernest Saves Christmas</td>\n",
       "      <td>John Cherry</td>\n",
       "      <td>Jim Varney, Noelle Parker, Douglas Seale</td>\n",
       "      <td>NaN</td>\n",
       "      <td>26-Nov-21</td>\n",
       "      <td>1988</td>\n",
       "      <td>PG</td>\n",
       "      <td>91 min</td>\n",
       "      <td>Comedy</td>\n",
       "      <td>Santa Claus passes his magic bag to a new St. ...</td>\n",
       "    </tr>\n",
       "    <tr>\n",
       "      <th>2</th>\n",
       "      <td>s3</td>\n",
       "      <td>Movie</td>\n",
       "      <td>Ice Age: A Mammoth Christmas</td>\n",
       "      <td>Karen Disher</td>\n",
       "      <td>Raymond Albert Romano, John Leguizamo, Denis L...</td>\n",
       "      <td>United States</td>\n",
       "      <td>26-Nov-21</td>\n",
       "      <td>2011</td>\n",
       "      <td>TV-G</td>\n",
       "      <td>23 min</td>\n",
       "      <td>Animation, Comedy, Family</td>\n",
       "      <td>Sid the Sloth is on Santa's naughty list.</td>\n",
       "    </tr>\n",
       "    <tr>\n",
       "      <th>3</th>\n",
       "      <td>s4</td>\n",
       "      <td>Movie</td>\n",
       "      <td>The Queen Family Singalong</td>\n",
       "      <td>Hamish Hamilton</td>\n",
       "      <td>Darren Criss, Adam Lambert, Derek Hough, Alexa...</td>\n",
       "      <td>NaN</td>\n",
       "      <td>26-Nov-21</td>\n",
       "      <td>2021</td>\n",
       "      <td>TV-PG</td>\n",
       "      <td>41 min</td>\n",
       "      <td>Musical</td>\n",
       "      <td>This is real life, not just fantasy!</td>\n",
       "    </tr>\n",
       "    <tr>\n",
       "      <th>4</th>\n",
       "      <td>s5</td>\n",
       "      <td>TV Show</td>\n",
       "      <td>The Beatles: Get Back</td>\n",
       "      <td>NaN</td>\n",
       "      <td>John Lennon, Paul McCartney, George Harrison, ...</td>\n",
       "      <td>NaN</td>\n",
       "      <td>25-Nov-21</td>\n",
       "      <td>2021</td>\n",
       "      <td>NaN</td>\n",
       "      <td>1 Season</td>\n",
       "      <td>Docuseries, Historical, Music</td>\n",
       "      <td>A three-part documentary from Peter Jackson ca...</td>\n",
       "    </tr>\n",
       "    <tr>\n",
       "      <th>...</th>\n",
       "      <td>...</td>\n",
       "      <td>...</td>\n",
       "      <td>...</td>\n",
       "      <td>...</td>\n",
       "      <td>...</td>\n",
       "      <td>...</td>\n",
       "      <td>...</td>\n",
       "      <td>...</td>\n",
       "      <td>...</td>\n",
       "      <td>...</td>\n",
       "      <td>...</td>\n",
       "      <td>...</td>\n",
       "    </tr>\n",
       "    <tr>\n",
       "      <th>1445</th>\n",
       "      <td>s1446</td>\n",
       "      <td>Movie</td>\n",
       "      <td>X-Men Origins: Wolverine</td>\n",
       "      <td>Gavin Hood</td>\n",
       "      <td>Hugh Jackman, Liev Schreiber, Danny Huston, wi...</td>\n",
       "      <td>United States, United Kingdom</td>\n",
       "      <td>4-Jun-21</td>\n",
       "      <td>2009</td>\n",
       "      <td>PG-13</td>\n",
       "      <td>108 min</td>\n",
       "      <td>Action-Adventure, Family, Science Fiction</td>\n",
       "      <td>Wolverine unites with legendary X-Men to fight...</td>\n",
       "    </tr>\n",
       "    <tr>\n",
       "      <th>1446</th>\n",
       "      <td>s1447</td>\n",
       "      <td>Movie</td>\n",
       "      <td>Night at the Museum: Battle of the Smithsonian</td>\n",
       "      <td>Shawn Levy</td>\n",
       "      <td>Ben Stiller, Amy Adams, Owen Wilson, Hank Azar...</td>\n",
       "      <td>United States, Canada</td>\n",
       "      <td>2-Apr-21</td>\n",
       "      <td>2009</td>\n",
       "      <td>PG</td>\n",
       "      <td>106 min</td>\n",
       "      <td>Action-Adventure, Comedy, Family</td>\n",
       "      <td>Larry Daley returns to rescue some old friends...</td>\n",
       "    </tr>\n",
       "    <tr>\n",
       "      <th>1447</th>\n",
       "      <td>s1448</td>\n",
       "      <td>Movie</td>\n",
       "      <td>Eddie the Eagle</td>\n",
       "      <td>Dexter Fletcher</td>\n",
       "      <td>Tom Costello, Jo Hartley, Keith Allen, Dickon ...</td>\n",
       "      <td>United Kingdom, Germany, United States</td>\n",
       "      <td>18-Dec-20</td>\n",
       "      <td>2016</td>\n",
       "      <td>PG-13</td>\n",
       "      <td>107 min</td>\n",
       "      <td>Biographical, Comedy, Drama</td>\n",
       "      <td>True story of Eddie Edwards, a British ski-jum...</td>\n",
       "    </tr>\n",
       "    <tr>\n",
       "      <th>1448</th>\n",
       "      <td>s1449</td>\n",
       "      <td>Movie</td>\n",
       "      <td>Bend It Like Beckham</td>\n",
       "      <td>Gurinder Chadha</td>\n",
       "      <td>Parminder Nagra, Keira Knightley, Jonathan Rhy...</td>\n",
       "      <td>United Kingdom, Germany, United States</td>\n",
       "      <td>18-Sep-20</td>\n",
       "      <td>2003</td>\n",
       "      <td>PG-13</td>\n",
       "      <td>112 min</td>\n",
       "      <td>Buddy, Comedy, Coming of Age</td>\n",
       "      <td>Despite the wishes of their traditional famili...</td>\n",
       "    </tr>\n",
       "    <tr>\n",
       "      <th>1449</th>\n",
       "      <td>s1450</td>\n",
       "      <td>Movie</td>\n",
       "      <td>Captain Sparky vs. The Flying Saucers</td>\n",
       "      <td>Mark Waring</td>\n",
       "      <td>Charlie Tahan</td>\n",
       "      <td>United States</td>\n",
       "      <td>1-Apr-20</td>\n",
       "      <td>2012</td>\n",
       "      <td>TV-G</td>\n",
       "      <td>2 min</td>\n",
       "      <td>Action-Adventure, Animals &amp; Nature, Animation</td>\n",
       "      <td>View one of Sparky's favorite home movies.</td>\n",
       "    </tr>\n",
       "  </tbody>\n",
       "</table>\n",
       "<p>1450 rows × 12 columns</p>\n",
       "</div>"
      ],
      "text/plain": [
       "     show_id     type                                             title  \\\n",
       "0         s1    Movie  Duck the Halls: A Mickey Mouse Christmas Special   \n",
       "1         s2    Movie                            Ernest Saves Christmas   \n",
       "2         s3    Movie                      Ice Age: A Mammoth Christmas   \n",
       "3         s4    Movie                        The Queen Family Singalong   \n",
       "4         s5  TV Show                             The Beatles: Get Back   \n",
       "...      ...      ...                                               ...   \n",
       "1445   s1446    Movie                          X-Men Origins: Wolverine   \n",
       "1446   s1447    Movie    Night at the Museum: Battle of the Smithsonian   \n",
       "1447   s1448    Movie                                   Eddie the Eagle   \n",
       "1448   s1449    Movie                              Bend It Like Beckham   \n",
       "1449   s1450    Movie             Captain Sparky vs. The Flying Saucers   \n",
       "\n",
       "                               director  \\\n",
       "0     Alonso Ramirez Ramos, Dave Wasson   \n",
       "1                           John Cherry   \n",
       "2                          Karen Disher   \n",
       "3                       Hamish Hamilton   \n",
       "4                                   NaN   \n",
       "...                                 ...   \n",
       "1445                         Gavin Hood   \n",
       "1446                         Shawn Levy   \n",
       "1447                    Dexter Fletcher   \n",
       "1448                    Gurinder Chadha   \n",
       "1449                        Mark Waring   \n",
       "\n",
       "                                                   cast  \\\n",
       "0     Chris Diamantopoulos, Tony Anselmo, Tress MacN...   \n",
       "1              Jim Varney, Noelle Parker, Douglas Seale   \n",
       "2     Raymond Albert Romano, John Leguizamo, Denis L...   \n",
       "3     Darren Criss, Adam Lambert, Derek Hough, Alexa...   \n",
       "4     John Lennon, Paul McCartney, George Harrison, ...   \n",
       "...                                                 ...   \n",
       "1445  Hugh Jackman, Liev Schreiber, Danny Huston, wi...   \n",
       "1446  Ben Stiller, Amy Adams, Owen Wilson, Hank Azar...   \n",
       "1447  Tom Costello, Jo Hartley, Keith Allen, Dickon ...   \n",
       "1448  Parminder Nagra, Keira Knightley, Jonathan Rhy...   \n",
       "1449                                      Charlie Tahan   \n",
       "\n",
       "                                     country date_added  release_year rating  \\\n",
       "0                                        NaN  26-Nov-21          2016   TV-G   \n",
       "1                                        NaN  26-Nov-21          1988     PG   \n",
       "2                              United States  26-Nov-21          2011   TV-G   \n",
       "3                                        NaN  26-Nov-21          2021  TV-PG   \n",
       "4                                        NaN  25-Nov-21          2021    NaN   \n",
       "...                                      ...        ...           ...    ...   \n",
       "1445           United States, United Kingdom   4-Jun-21          2009  PG-13   \n",
       "1446                   United States, Canada   2-Apr-21          2009     PG   \n",
       "1447  United Kingdom, Germany, United States  18-Dec-20          2016  PG-13   \n",
       "1448  United Kingdom, Germany, United States  18-Sep-20          2003  PG-13   \n",
       "1449                           United States   1-Apr-20          2012   TV-G   \n",
       "\n",
       "      duration                                      listed_in  \\\n",
       "0       23 min                              Animation, Family   \n",
       "1       91 min                                         Comedy   \n",
       "2       23 min                      Animation, Comedy, Family   \n",
       "3       41 min                                        Musical   \n",
       "4     1 Season                  Docuseries, Historical, Music   \n",
       "...        ...                                            ...   \n",
       "1445   108 min      Action-Adventure, Family, Science Fiction   \n",
       "1446   106 min               Action-Adventure, Comedy, Family   \n",
       "1447   107 min                    Biographical, Comedy, Drama   \n",
       "1448   112 min                   Buddy, Comedy, Coming of Age   \n",
       "1449     2 min  Action-Adventure, Animals & Nature, Animation   \n",
       "\n",
       "                                            description  \n",
       "0      Join Mickey and the gang as they duck the halls!  \n",
       "1     Santa Claus passes his magic bag to a new St. ...  \n",
       "2             Sid the Sloth is on Santa's naughty list.  \n",
       "3                  This is real life, not just fantasy!  \n",
       "4     A three-part documentary from Peter Jackson ca...  \n",
       "...                                                 ...  \n",
       "1445  Wolverine unites with legendary X-Men to fight...  \n",
       "1446  Larry Daley returns to rescue some old friends...  \n",
       "1447  True story of Eddie Edwards, a British ski-jum...  \n",
       "1448  Despite the wishes of their traditional famili...  \n",
       "1449         View one of Sparky's favorite home movies.  \n",
       "\n",
       "[1450 rows x 12 columns]"
      ]
     },
     "execution_count": 2,
     "metadata": {},
     "output_type": "execute_result"
    }
   ],
   "source": [
    "df =pd.read_csv(\"disney_plus_titles.csv\")\n",
    "df"
   ]
  },
  {
   "cell_type": "markdown",
   "id": "71ed0781-9fef-4d7b-878b-82afd961a22a",
   "metadata": {},
   "source": [
    "### Shape of Data"
   ]
  },
  {
   "cell_type": "code",
   "execution_count": 3,
   "id": "738a5edf-ef7c-4155-a9ab-17427fa4047f",
   "metadata": {},
   "outputs": [
    {
     "data": {
      "text/plain": [
       "(1450, 12)"
      ]
     },
     "execution_count": 3,
     "metadata": {},
     "output_type": "execute_result"
    }
   ],
   "source": [
    "df.shape"
   ]
  },
  {
   "cell_type": "markdown",
   "id": "b0a849af-62c6-4275-beda-2f35d6362aeb",
   "metadata": {},
   "source": [
    "### Head of data "
   ]
  },
  {
   "cell_type": "code",
   "execution_count": 4,
   "id": "50639981-75e9-4250-82a3-4cc18bbe8c2f",
   "metadata": {},
   "outputs": [
    {
     "data": {
      "text/html": [
       "<div>\n",
       "<style scoped>\n",
       "    .dataframe tbody tr th:only-of-type {\n",
       "        vertical-align: middle;\n",
       "    }\n",
       "\n",
       "    .dataframe tbody tr th {\n",
       "        vertical-align: top;\n",
       "    }\n",
       "\n",
       "    .dataframe thead th {\n",
       "        text-align: right;\n",
       "    }\n",
       "</style>\n",
       "<table border=\"1\" class=\"dataframe\">\n",
       "  <thead>\n",
       "    <tr style=\"text-align: right;\">\n",
       "      <th></th>\n",
       "      <th>show_id</th>\n",
       "      <th>type</th>\n",
       "      <th>title</th>\n",
       "      <th>director</th>\n",
       "      <th>cast</th>\n",
       "      <th>country</th>\n",
       "      <th>date_added</th>\n",
       "      <th>release_year</th>\n",
       "      <th>rating</th>\n",
       "      <th>duration</th>\n",
       "      <th>listed_in</th>\n",
       "      <th>description</th>\n",
       "    </tr>\n",
       "  </thead>\n",
       "  <tbody>\n",
       "    <tr>\n",
       "      <th>0</th>\n",
       "      <td>s1</td>\n",
       "      <td>Movie</td>\n",
       "      <td>Duck the Halls: A Mickey Mouse Christmas Special</td>\n",
       "      <td>Alonso Ramirez Ramos, Dave Wasson</td>\n",
       "      <td>Chris Diamantopoulos, Tony Anselmo, Tress MacN...</td>\n",
       "      <td>NaN</td>\n",
       "      <td>26-Nov-21</td>\n",
       "      <td>2016</td>\n",
       "      <td>TV-G</td>\n",
       "      <td>23 min</td>\n",
       "      <td>Animation, Family</td>\n",
       "      <td>Join Mickey and the gang as they duck the halls!</td>\n",
       "    </tr>\n",
       "    <tr>\n",
       "      <th>1</th>\n",
       "      <td>s2</td>\n",
       "      <td>Movie</td>\n",
       "      <td>Ernest Saves Christmas</td>\n",
       "      <td>John Cherry</td>\n",
       "      <td>Jim Varney, Noelle Parker, Douglas Seale</td>\n",
       "      <td>NaN</td>\n",
       "      <td>26-Nov-21</td>\n",
       "      <td>1988</td>\n",
       "      <td>PG</td>\n",
       "      <td>91 min</td>\n",
       "      <td>Comedy</td>\n",
       "      <td>Santa Claus passes his magic bag to a new St. ...</td>\n",
       "    </tr>\n",
       "    <tr>\n",
       "      <th>2</th>\n",
       "      <td>s3</td>\n",
       "      <td>Movie</td>\n",
       "      <td>Ice Age: A Mammoth Christmas</td>\n",
       "      <td>Karen Disher</td>\n",
       "      <td>Raymond Albert Romano, John Leguizamo, Denis L...</td>\n",
       "      <td>United States</td>\n",
       "      <td>26-Nov-21</td>\n",
       "      <td>2011</td>\n",
       "      <td>TV-G</td>\n",
       "      <td>23 min</td>\n",
       "      <td>Animation, Comedy, Family</td>\n",
       "      <td>Sid the Sloth is on Santa's naughty list.</td>\n",
       "    </tr>\n",
       "    <tr>\n",
       "      <th>3</th>\n",
       "      <td>s4</td>\n",
       "      <td>Movie</td>\n",
       "      <td>The Queen Family Singalong</td>\n",
       "      <td>Hamish Hamilton</td>\n",
       "      <td>Darren Criss, Adam Lambert, Derek Hough, Alexa...</td>\n",
       "      <td>NaN</td>\n",
       "      <td>26-Nov-21</td>\n",
       "      <td>2021</td>\n",
       "      <td>TV-PG</td>\n",
       "      <td>41 min</td>\n",
       "      <td>Musical</td>\n",
       "      <td>This is real life, not just fantasy!</td>\n",
       "    </tr>\n",
       "    <tr>\n",
       "      <th>4</th>\n",
       "      <td>s5</td>\n",
       "      <td>TV Show</td>\n",
       "      <td>The Beatles: Get Back</td>\n",
       "      <td>NaN</td>\n",
       "      <td>John Lennon, Paul McCartney, George Harrison, ...</td>\n",
       "      <td>NaN</td>\n",
       "      <td>25-Nov-21</td>\n",
       "      <td>2021</td>\n",
       "      <td>NaN</td>\n",
       "      <td>1 Season</td>\n",
       "      <td>Docuseries, Historical, Music</td>\n",
       "      <td>A three-part documentary from Peter Jackson ca...</td>\n",
       "    </tr>\n",
       "  </tbody>\n",
       "</table>\n",
       "</div>"
      ],
      "text/plain": [
       "  show_id     type                                             title  \\\n",
       "0      s1    Movie  Duck the Halls: A Mickey Mouse Christmas Special   \n",
       "1      s2    Movie                            Ernest Saves Christmas   \n",
       "2      s3    Movie                      Ice Age: A Mammoth Christmas   \n",
       "3      s4    Movie                        The Queen Family Singalong   \n",
       "4      s5  TV Show                             The Beatles: Get Back   \n",
       "\n",
       "                            director  \\\n",
       "0  Alonso Ramirez Ramos, Dave Wasson   \n",
       "1                        John Cherry   \n",
       "2                       Karen Disher   \n",
       "3                    Hamish Hamilton   \n",
       "4                                NaN   \n",
       "\n",
       "                                                cast        country  \\\n",
       "0  Chris Diamantopoulos, Tony Anselmo, Tress MacN...            NaN   \n",
       "1           Jim Varney, Noelle Parker, Douglas Seale            NaN   \n",
       "2  Raymond Albert Romano, John Leguizamo, Denis L...  United States   \n",
       "3  Darren Criss, Adam Lambert, Derek Hough, Alexa...            NaN   \n",
       "4  John Lennon, Paul McCartney, George Harrison, ...            NaN   \n",
       "\n",
       "  date_added  release_year rating  duration                      listed_in  \\\n",
       "0  26-Nov-21          2016   TV-G    23 min              Animation, Family   \n",
       "1  26-Nov-21          1988     PG    91 min                         Comedy   \n",
       "2  26-Nov-21          2011   TV-G    23 min      Animation, Comedy, Family   \n",
       "3  26-Nov-21          2021  TV-PG    41 min                        Musical   \n",
       "4  25-Nov-21          2021    NaN  1 Season  Docuseries, Historical, Music   \n",
       "\n",
       "                                         description  \n",
       "0   Join Mickey and the gang as they duck the halls!  \n",
       "1  Santa Claus passes his magic bag to a new St. ...  \n",
       "2          Sid the Sloth is on Santa's naughty list.  \n",
       "3               This is real life, not just fantasy!  \n",
       "4  A three-part documentary from Peter Jackson ca...  "
      ]
     },
     "execution_count": 4,
     "metadata": {},
     "output_type": "execute_result"
    }
   ],
   "source": [
    "df.head()"
   ]
  },
  {
   "cell_type": "markdown",
   "id": "43bf66bc-3ea3-4fd7-8648-9b30de30b8a6",
   "metadata": {},
   "source": [
    "### Tail of data "
   ]
  },
  {
   "cell_type": "code",
   "execution_count": 5,
   "id": "e8e523e5-559e-45da-a79c-27076501e285",
   "metadata": {},
   "outputs": [
    {
     "data": {
      "text/html": [
       "<div>\n",
       "<style scoped>\n",
       "    .dataframe tbody tr th:only-of-type {\n",
       "        vertical-align: middle;\n",
       "    }\n",
       "\n",
       "    .dataframe tbody tr th {\n",
       "        vertical-align: top;\n",
       "    }\n",
       "\n",
       "    .dataframe thead th {\n",
       "        text-align: right;\n",
       "    }\n",
       "</style>\n",
       "<table border=\"1\" class=\"dataframe\">\n",
       "  <thead>\n",
       "    <tr style=\"text-align: right;\">\n",
       "      <th></th>\n",
       "      <th>show_id</th>\n",
       "      <th>type</th>\n",
       "      <th>title</th>\n",
       "      <th>director</th>\n",
       "      <th>cast</th>\n",
       "      <th>country</th>\n",
       "      <th>date_added</th>\n",
       "      <th>release_year</th>\n",
       "      <th>rating</th>\n",
       "      <th>duration</th>\n",
       "      <th>listed_in</th>\n",
       "      <th>description</th>\n",
       "    </tr>\n",
       "  </thead>\n",
       "  <tbody>\n",
       "    <tr>\n",
       "      <th>1445</th>\n",
       "      <td>s1446</td>\n",
       "      <td>Movie</td>\n",
       "      <td>X-Men Origins: Wolverine</td>\n",
       "      <td>Gavin Hood</td>\n",
       "      <td>Hugh Jackman, Liev Schreiber, Danny Huston, wi...</td>\n",
       "      <td>United States, United Kingdom</td>\n",
       "      <td>4-Jun-21</td>\n",
       "      <td>2009</td>\n",
       "      <td>PG-13</td>\n",
       "      <td>108 min</td>\n",
       "      <td>Action-Adventure, Family, Science Fiction</td>\n",
       "      <td>Wolverine unites with legendary X-Men to fight...</td>\n",
       "    </tr>\n",
       "    <tr>\n",
       "      <th>1446</th>\n",
       "      <td>s1447</td>\n",
       "      <td>Movie</td>\n",
       "      <td>Night at the Museum: Battle of the Smithsonian</td>\n",
       "      <td>Shawn Levy</td>\n",
       "      <td>Ben Stiller, Amy Adams, Owen Wilson, Hank Azar...</td>\n",
       "      <td>United States, Canada</td>\n",
       "      <td>2-Apr-21</td>\n",
       "      <td>2009</td>\n",
       "      <td>PG</td>\n",
       "      <td>106 min</td>\n",
       "      <td>Action-Adventure, Comedy, Family</td>\n",
       "      <td>Larry Daley returns to rescue some old friends...</td>\n",
       "    </tr>\n",
       "    <tr>\n",
       "      <th>1447</th>\n",
       "      <td>s1448</td>\n",
       "      <td>Movie</td>\n",
       "      <td>Eddie the Eagle</td>\n",
       "      <td>Dexter Fletcher</td>\n",
       "      <td>Tom Costello, Jo Hartley, Keith Allen, Dickon ...</td>\n",
       "      <td>United Kingdom, Germany, United States</td>\n",
       "      <td>18-Dec-20</td>\n",
       "      <td>2016</td>\n",
       "      <td>PG-13</td>\n",
       "      <td>107 min</td>\n",
       "      <td>Biographical, Comedy, Drama</td>\n",
       "      <td>True story of Eddie Edwards, a British ski-jum...</td>\n",
       "    </tr>\n",
       "    <tr>\n",
       "      <th>1448</th>\n",
       "      <td>s1449</td>\n",
       "      <td>Movie</td>\n",
       "      <td>Bend It Like Beckham</td>\n",
       "      <td>Gurinder Chadha</td>\n",
       "      <td>Parminder Nagra, Keira Knightley, Jonathan Rhy...</td>\n",
       "      <td>United Kingdom, Germany, United States</td>\n",
       "      <td>18-Sep-20</td>\n",
       "      <td>2003</td>\n",
       "      <td>PG-13</td>\n",
       "      <td>112 min</td>\n",
       "      <td>Buddy, Comedy, Coming of Age</td>\n",
       "      <td>Despite the wishes of their traditional famili...</td>\n",
       "    </tr>\n",
       "    <tr>\n",
       "      <th>1449</th>\n",
       "      <td>s1450</td>\n",
       "      <td>Movie</td>\n",
       "      <td>Captain Sparky vs. The Flying Saucers</td>\n",
       "      <td>Mark Waring</td>\n",
       "      <td>Charlie Tahan</td>\n",
       "      <td>United States</td>\n",
       "      <td>1-Apr-20</td>\n",
       "      <td>2012</td>\n",
       "      <td>TV-G</td>\n",
       "      <td>2 min</td>\n",
       "      <td>Action-Adventure, Animals &amp; Nature, Animation</td>\n",
       "      <td>View one of Sparky's favorite home movies.</td>\n",
       "    </tr>\n",
       "  </tbody>\n",
       "</table>\n",
       "</div>"
      ],
      "text/plain": [
       "     show_id   type                                           title  \\\n",
       "1445   s1446  Movie                        X-Men Origins: Wolverine   \n",
       "1446   s1447  Movie  Night at the Museum: Battle of the Smithsonian   \n",
       "1447   s1448  Movie                                 Eddie the Eagle   \n",
       "1448   s1449  Movie                            Bend It Like Beckham   \n",
       "1449   s1450  Movie           Captain Sparky vs. The Flying Saucers   \n",
       "\n",
       "             director                                               cast  \\\n",
       "1445       Gavin Hood  Hugh Jackman, Liev Schreiber, Danny Huston, wi...   \n",
       "1446       Shawn Levy  Ben Stiller, Amy Adams, Owen Wilson, Hank Azar...   \n",
       "1447  Dexter Fletcher  Tom Costello, Jo Hartley, Keith Allen, Dickon ...   \n",
       "1448  Gurinder Chadha  Parminder Nagra, Keira Knightley, Jonathan Rhy...   \n",
       "1449      Mark Waring                                      Charlie Tahan   \n",
       "\n",
       "                                     country date_added  release_year rating  \\\n",
       "1445           United States, United Kingdom   4-Jun-21          2009  PG-13   \n",
       "1446                   United States, Canada   2-Apr-21          2009     PG   \n",
       "1447  United Kingdom, Germany, United States  18-Dec-20          2016  PG-13   \n",
       "1448  United Kingdom, Germany, United States  18-Sep-20          2003  PG-13   \n",
       "1449                           United States   1-Apr-20          2012   TV-G   \n",
       "\n",
       "     duration                                      listed_in  \\\n",
       "1445  108 min      Action-Adventure, Family, Science Fiction   \n",
       "1446  106 min               Action-Adventure, Comedy, Family   \n",
       "1447  107 min                    Biographical, Comedy, Drama   \n",
       "1448  112 min                   Buddy, Comedy, Coming of Age   \n",
       "1449    2 min  Action-Adventure, Animals & Nature, Animation   \n",
       "\n",
       "                                            description  \n",
       "1445  Wolverine unites with legendary X-Men to fight...  \n",
       "1446  Larry Daley returns to rescue some old friends...  \n",
       "1447  True story of Eddie Edwards, a British ski-jum...  \n",
       "1448  Despite the wishes of their traditional famili...  \n",
       "1449         View one of Sparky's favorite home movies.  "
      ]
     },
     "execution_count": 5,
     "metadata": {},
     "output_type": "execute_result"
    }
   ],
   "source": [
    "df.tail()"
   ]
  },
  {
   "cell_type": "markdown",
   "id": "511632d6-d135-474c-ad23-211171311657",
   "metadata": {},
   "source": [
    "### Data info"
   ]
  },
  {
   "cell_type": "code",
   "execution_count": 6,
   "id": "e1160e3b-f1f1-49d5-9e6e-15cf4824098a",
   "metadata": {},
   "outputs": [
    {
     "name": "stdout",
     "output_type": "stream",
     "text": [
      "<class 'pandas.core.frame.DataFrame'>\n",
      "RangeIndex: 1450 entries, 0 to 1449\n",
      "Data columns (total 12 columns):\n",
      " #   Column        Non-Null Count  Dtype \n",
      "---  ------        --------------  ----- \n",
      " 0   show_id       1450 non-null   object\n",
      " 1   type          1450 non-null   object\n",
      " 2   title         1450 non-null   object\n",
      " 3   director      977 non-null    object\n",
      " 4   cast          1260 non-null   object\n",
      " 5   country       1231 non-null   object\n",
      " 6   date_added    1447 non-null   object\n",
      " 7   release_year  1450 non-null   int64 \n",
      " 8   rating        1447 non-null   object\n",
      " 9   duration      1450 non-null   object\n",
      " 10  listed_in     1450 non-null   object\n",
      " 11  description   1450 non-null   object\n",
      "dtypes: int64(1), object(11)\n",
      "memory usage: 136.1+ KB\n"
     ]
    }
   ],
   "source": [
    "df.info()"
   ]
  },
  {
   "cell_type": "markdown",
   "id": "3ea59df6-2b53-4c98-9d23-d8053c7f0942",
   "metadata": {},
   "source": [
    "### Data dtypes"
   ]
  },
  {
   "cell_type": "code",
   "execution_count": 7,
   "id": "36168df6-feee-4ac4-8d14-a647e391f473",
   "metadata": {},
   "outputs": [
    {
     "data": {
      "text/plain": [
       "show_id         object\n",
       "type            object\n",
       "title           object\n",
       "director        object\n",
       "cast            object\n",
       "country         object\n",
       "date_added      object\n",
       "release_year     int64\n",
       "rating          object\n",
       "duration        object\n",
       "listed_in       object\n",
       "description     object\n",
       "dtype: object"
      ]
     },
     "execution_count": 7,
     "metadata": {},
     "output_type": "execute_result"
    }
   ],
   "source": [
    "df.dtypes"
   ]
  },
  {
   "cell_type": "markdown",
   "id": "a4d9de2b-152c-405a-b36c-0f7bc84c77ec",
   "metadata": {},
   "source": [
    "### Checking null values"
   ]
  },
  {
   "cell_type": "code",
   "execution_count": 8,
   "id": "da753a80-04fb-44a4-b69f-92f848d90cfd",
   "metadata": {},
   "outputs": [
    {
     "data": {
      "text/plain": [
       "show_id           0\n",
       "type              0\n",
       "title             0\n",
       "director        473\n",
       "cast            190\n",
       "country         219\n",
       "date_added        3\n",
       "release_year      0\n",
       "rating            3\n",
       "duration          0\n",
       "listed_in         0\n",
       "description       0\n",
       "dtype: int64"
      ]
     },
     "execution_count": 8,
     "metadata": {},
     "output_type": "execute_result"
    }
   ],
   "source": [
    "df.isnull().sum()"
   ]
  },
  {
   "cell_type": "markdown",
   "id": "2d84fd32-f733-45dd-91a3-3e4d19557e3a",
   "metadata": {},
   "source": [
    "## Data Cleaning \n",
    "- Removing Duplicate row and columns\n",
    "- Rename columns name \n",
    "- Handling the null value\n"
   ]
  },
  {
   "cell_type": "code",
   "execution_count": 9,
   "id": "2cf42bfe-011a-483e-97a4-afd25fade269",
   "metadata": {},
   "outputs": [
    {
     "data": {
      "text/plain": [
       "False    1450\n",
       "dtype: int64"
      ]
     },
     "execution_count": 9,
     "metadata": {},
     "output_type": "execute_result"
    }
   ],
   "source": [
    "df.duplicated().value_counts()"
   ]
  },
  {
   "cell_type": "markdown",
   "id": "d880f201-f220-4c66-94e4-829bf87a58c9",
   "metadata": {},
   "source": [
    "#### NOTE- IN this data set there is no dublicated value"
   ]
  },
  {
   "cell_type": "code",
   "execution_count": 10,
   "id": "9186bf78-2591-4c73-8fbb-84ff403c20ff",
   "metadata": {},
   "outputs": [
    {
     "data": {
      "text/plain": [
       "Jack Hannah         17\n",
       "John Lasseter       16\n",
       "Paul Hoen           16\n",
       "Robert Stevenson    12\n",
       "Charles Nichols     12\n",
       "                    ..\n",
       "Simon Wells          1\n",
       "David Lynch          1\n",
       "Don Bluth            1\n",
       "Milt Schaffer        1\n",
       "Mark Waring          1\n",
       "Name: director, Length: 609, dtype: int64"
      ]
     },
     "execution_count": 10,
     "metadata": {},
     "output_type": "execute_result"
    }
   ],
   "source": [
    "df[\"director\"].value_counts()"
   ]
  },
  {
   "cell_type": "markdown",
   "id": "6335d02c-e83c-4b3d-9059-a9cf597b1a0d",
   "metadata": {},
   "source": [
    "### Rename columns name"
   ]
  },
  {
   "cell_type": "code",
   "execution_count": 11,
   "id": "329110da-868e-4694-8c97-e98649d302c0",
   "metadata": {},
   "outputs": [],
   "source": [
    "df.rename(columns={\"listed_in\":\"Genre\"},inplace=True)\n"
   ]
  },
  {
   "cell_type": "markdown",
   "id": "e7a7126a-390c-4e8b-a3b8-6e2b69670f89",
   "metadata": {},
   "source": [
    "### Handling the null value:"
   ]
  },
  {
   "cell_type": "code",
   "execution_count": 12,
   "id": "6c085f55-81da-44d8-bb46-999698659e47",
   "metadata": {},
   "outputs": [
    {
     "data": {
      "text/plain": [
       "473"
      ]
     },
     "execution_count": 12,
     "metadata": {},
     "output_type": "execute_result"
    }
   ],
   "source": [
    "df[\"director\"].isnull().sum()\n"
   ]
  },
  {
   "cell_type": "markdown",
   "id": "90eb3d33-9254-4ed3-bce2-dd76f1f3194d",
   "metadata": {},
   "source": [
    " ##### Note-We replaced the null values of this column to a default value: (Unknown),because it does not make sense to use the mode in this condition. "
   ]
  },
  {
   "cell_type": "code",
   "execution_count": 13,
   "id": "dfa3060d-9223-4b0e-9fc3-89f6ac9bd792",
   "metadata": {},
   "outputs": [],
   "source": [
    "df[\"director\"].fillna('Unknown',inplace=True)"
   ]
  },
  {
   "cell_type": "code",
   "execution_count": 14,
   "id": "18bfe9e1-b59c-44ec-a995-ff1ec3c579eb",
   "metadata": {},
   "outputs": [
    {
     "data": {
      "text/plain": [
       "219"
      ]
     },
     "execution_count": 14,
     "metadata": {},
     "output_type": "execute_result"
    }
   ],
   "source": [
    "df[\"country\"].isnull().sum()"
   ]
  },
  {
   "cell_type": "code",
   "execution_count": 15,
   "id": "d647411d-9f92-4db4-8569-a829537bbbe5",
   "metadata": {},
   "outputs": [
    {
     "data": {
      "text/plain": [
       "United States                                                  1005\n",
       "United States, Canada                                            30\n",
       "United Kingdom                                                   23\n",
       "United States, United Kingdom                                    22\n",
       "Canada, United States                                            17\n",
       "                                                               ... \n",
       "Ireland, United States                                            1\n",
       "Ireland, United Kingdom, United States, South Korea, Canada       1\n",
       "United States, South Korea, France                                1\n",
       "United States, Australia, France, Canada                          1\n",
       "United States, Ireland                                            1\n",
       "Name: country, Length: 89, dtype: int64"
      ]
     },
     "execution_count": 15,
     "metadata": {},
     "output_type": "execute_result"
    }
   ],
   "source": [
    "df[\"country\"].value_counts()"
   ]
  },
  {
   "cell_type": "code",
   "execution_count": 16,
   "id": "eac90a88-21dd-4979-8a5c-1c7bfd3d7e9e",
   "metadata": {},
   "outputs": [
    {
     "data": {
      "text/plain": [
       "'United States'"
      ]
     },
     "execution_count": 16,
     "metadata": {},
     "output_type": "execute_result"
    }
   ],
   "source": [
    "df[\"country\"].mode()[0]"
   ]
  },
  {
   "cell_type": "code",
   "execution_count": 17,
   "id": "c251a34f-8e28-4969-930b-b5616584bbb0",
   "metadata": {},
   "outputs": [],
   "source": [
    "df[\"country\"].fillna(df[\"country\"].mode()[0],inplace=True)"
   ]
  },
  {
   "cell_type": "markdown",
   "id": "53958fe9-afb5-476d-8e52-6750c60321f4",
   "metadata": {},
   "source": [
    "#### Note= The mode for the column 'country'.\n",
    "Here we replaced the missing value of the country table with the mode of this column which is (The United States)."
   ]
  },
  {
   "cell_type": "code",
   "execution_count": 18,
   "id": "46b6952f-1163-4742-b20a-7d97d5a3c5d7",
   "metadata": {},
   "outputs": [
    {
     "data": {
      "text/plain": [
       "190"
      ]
     },
     "execution_count": 18,
     "metadata": {},
     "output_type": "execute_result"
    }
   ],
   "source": [
    "df[\"cast\"].isnull().sum()"
   ]
  },
  {
   "cell_type": "code",
   "execution_count": 19,
   "id": "45dd862d-78ba-4909-beaa-be58faa96636",
   "metadata": {},
   "outputs": [],
   "source": [
    "df[\"cast\"].fillna(\"Unknown\",inplace=True)"
   ]
  },
  {
   "cell_type": "markdown",
   "id": "df810a52-47bd-4bea-93f7-17acdbb0b1c0",
   "metadata": {},
   "source": [
    "##### We replaced the null values of this column to a default value: (Unknown)"
   ]
  },
  {
   "cell_type": "code",
   "execution_count": 20,
   "id": "bd2bcd0d-f283-4701-9e4e-c31ceb2c5bc5",
   "metadata": {},
   "outputs": [],
   "source": [
    "df.dropna(subset=\"date_added\",inplace=True)"
   ]
  },
  {
   "cell_type": "code",
   "execution_count": 21,
   "id": "b97c0924-2869-4c23-9cc8-f2da1acf0a03",
   "metadata": {},
   "outputs": [],
   "source": [
    "df.dropna(subset=\"rating\",inplace=True)"
   ]
  },
  {
   "cell_type": "code",
   "execution_count": 22,
   "id": "e73354b5-0dff-4f6a-aba6-19435c0cf626",
   "metadata": {},
   "outputs": [
    {
     "data": {
      "text/plain": [
       "show_id         0\n",
       "type            0\n",
       "title           0\n",
       "director        0\n",
       "cast            0\n",
       "country         0\n",
       "date_added      0\n",
       "release_year    0\n",
       "rating          0\n",
       "duration        0\n",
       "Genre           0\n",
       "description     0\n",
       "dtype: int64"
      ]
     },
     "execution_count": 22,
     "metadata": {},
     "output_type": "execute_result"
    }
   ],
   "source": [
    "df.isnull().sum()"
   ]
  },
  {
   "cell_type": "markdown",
   "id": "7f0fe57e-eb98-4795-94d2-c52c29d0970e",
   "metadata": {},
   "source": [
    "### Now there are no missing values in the data set."
   ]
  },
  {
   "cell_type": "markdown",
   "id": "389c08c9-c2ea-448f-aba3-c4e120bd75f5",
   "metadata": {},
   "source": [
    "#### Soo, firstly, maybe let's answer these basic questions:\n",
    "##### What's the tv show/film distribution?\n",
    "##### What are the top directors and actors by amount of shows/films made?\n",
    "##### What year have the highest number of releases?\n",
    "##### What's the rating distribution? "
   ]
  },
  {
   "cell_type": "markdown",
   "id": "e7028704-700f-4131-baad-d60b568ca006",
   "metadata": {},
   "source": [
    "### Show/Film distribution"
   ]
  },
  {
   "cell_type": "code",
   "execution_count": 23,
   "id": "c7bc6699-a335-4e7d-ba3d-f5104f4c6e6b",
   "metadata": {},
   "outputs": [
    {
     "data": {
      "image/png": "[encoded data removed]",
      "text/plain": [
       "<Figure size 400x400 with 1 Axes>"
      ]
     },
     "metadata": {},
     "output_type": "display_data"
    }
   ],
   "source": [
    "sf_dist = df['type'].value_counts()\n",
    "\n",
    "plt.figure(figsize=(4,4))\n",
    "plt.pie(sf_dist, labels=['Movie', 'TV Show'],autopct='%.0f%%')\n",
    "plt.title('TV Shows/Movies distribution', fontsize=16)\n",
    "plt.show()"
   ]
  },
  {
   "cell_type": "markdown",
   "id": "f7898487-9073-4bb5-80de-9d67e7ce14d1",
   "metadata": {},
   "source": [
    "##### There are two types of programs : Movies and TV Shows."
   ]
  },
  {
   "cell_type": "markdown",
   "id": "b3a3dba0-2a10-4300-9994-88105fe47697",
   "metadata": {},
   "source": [
    "###  Top directors"
   ]
  },
  {
   "cell_type": "code",
   "execution_count": 24,
   "id": "6b7db2f1-acea-4857-9dc2-f7ddd66f95ef",
   "metadata": {},
   "outputs": [
    {
     "data": {
      "text/plain": [
       "<Axes: >"
      ]
     },
     "execution_count": 24,
     "metadata": {},
     "output_type": "execute_result"
    },
    {
     "data": {
      "image/png": "[encoded data removed]",
      "text/plain": [
       "<Figure size 640x480 with 1 Axes>"
      ]
     },
     "metadata": {},
     "output_type": "display_data"
    }
   ],
   "source": [
    "directors=df['director'].value_counts()[1:11][::-1]\n",
    "directors.plot(kind=\"barh\")"
   ]
  },
  {
   "cell_type": "code",
   "execution_count": 25,
   "id": "281384d0-f117-441c-9c92-110c77921f5e",
   "metadata": {},
   "outputs": [
    {
     "data": {
      "image/png": "[encoded data removed]",
      "text/plain": [
       "<Figure size 800x800 with 1 Axes>"
      ]
     },
     "metadata": {},
     "output_type": "display_data"
    }
   ],
   "source": [
    "plt.figure(figsize=(8,8))\n",
    "plt.barh(directors.index, directors.values)\n",
    "plt.title(\"Directors with the highest number of shows/movies\",fontsize=16)\n",
    "plt.xlim([7,20])\n",
    "plt.show()"
   ]
  },
  {
   "cell_type": "markdown",
   "id": "79f6a12f-af9b-484c-b19b-6fffb01e8688",
   "metadata": {},
   "source": [
    "### Highest Movie release year"
   ]
  },
  {
   "cell_type": "code",
   "execution_count": 26,
   "id": "5dd21f16-0bd3-4f40-9d6f-ddb8341032d8",
   "metadata": {},
   "outputs": [
    {
     "data": {
      "text/plain": [
       "2021    123\n",
       "Name: release_year, dtype: int64"
      ]
     },
     "execution_count": 26,
     "metadata": {},
     "output_type": "execute_result"
    }
   ],
   "source": [
    "df[\"release_year\"].value_counts().head(1)"
   ]
  },
  {
   "cell_type": "markdown",
   "id": "8751e40e-d748-46c2-ac12-7fa6deff6c51",
   "metadata": {},
   "source": [
    "#### rating distribution"
   ]
  },
  {
   "cell_type": "code",
   "execution_count": 27,
   "id": "23bf7a9f-6cae-4d49-b799-413dec26cbf1",
   "metadata": {},
   "outputs": [
    {
     "data": {
      "text/plain": [
       "TV-G        318\n",
       "TV-PG       301\n",
       "G           253\n",
       "PG          236\n",
       "TV-Y7       129\n",
       "TV-14        79\n",
       "PG-13        66\n",
       "TV-Y         49\n",
       "TV-Y7-FV     13\n",
       "Name: rating, dtype: int64"
      ]
     },
     "execution_count": 27,
     "metadata": {},
     "output_type": "execute_result"
    }
   ],
   "source": [
    "df['rating'].value_counts()"
   ]
  },
  {
   "cell_type": "code",
   "execution_count": 28,
   "id": "0861d6c0-c2bd-4a23-b9b3-cfb469d70496",
   "metadata": {},
   "outputs": [
    {
     "data": {
      "image/png": "[encoded data removed]",
      "text/plain": [
       "<Figure size 800x800 with 1 Axes>"
      ]
     },
     "metadata": {},
     "output_type": "display_data"
    }
   ],
   "source": [
    "ratings_dist = df['rating'].value_counts()\n",
    "\n",
    "plt.figure(figsize=(8,8))\n",
    "plt.pie(ratings_dist, labels=['TV-G', 'TV-PG', 'G', 'PG', 'TV-Y7', 'TV-14', 'PG-13', 'TV-Y', 'TV-Y7-FV'], autopct='%.0f%%')\n",
    "plt.title('Ratings distribution', fontsize=20)\n",
    "plt.show()\n"
   ]
  },
  {
   "cell_type": "markdown",
   "id": "793e142a-65b9-4ae0-8717-eea73c577209",
   "metadata": {},
   "source": [
    "### Here are the answers:\n",
    "##### 73% of content is a movie; only 23% is a tv show\n",
    "##### Director who did the most movies/shows is Jack Hannah\n",
    "##### Year with the most releases is unsurprisingly 2021\n",
    "##### The most common rating is TV-G (all ages admitted)"
   ]
  },
  {
   "cell_type": "markdown",
   "id": "2d52cedb-23be-4856-9376-09244fe2fbc1",
   "metadata": {},
   "source": [
    "# Asking Questions"
   ]
  },
  {
   "cell_type": "markdown",
   "id": "3b427f30-2125-4b09-9313-c56ecedd9917",
   "metadata": {},
   "source": [
    "## 1. The oldest 10 movie"
   ]
  },
  {
   "cell_type": "code",
   "execution_count": 29,
   "id": "57db0959-c233-4e72-9baf-f1bcad2c7f6f",
   "metadata": {},
   "outputs": [
    {
     "data": {
      "text/html": [
       "<div>\n",
       "<style scoped>\n",
       "    .dataframe tbody tr th:only-of-type {\n",
       "        vertical-align: middle;\n",
       "    }\n",
       "\n",
       "    .dataframe tbody tr th {\n",
       "        vertical-align: top;\n",
       "    }\n",
       "\n",
       "    .dataframe thead th {\n",
       "        text-align: right;\n",
       "    }\n",
       "</style>\n",
       "<table border=\"1\" class=\"dataframe\">\n",
       "  <thead>\n",
       "    <tr style=\"text-align: right;\">\n",
       "      <th></th>\n",
       "      <th>show_id</th>\n",
       "      <th>type</th>\n",
       "      <th>title</th>\n",
       "      <th>director</th>\n",
       "      <th>cast</th>\n",
       "      <th>country</th>\n",
       "      <th>date_added</th>\n",
       "      <th>release_year</th>\n",
       "      <th>rating</th>\n",
       "      <th>duration</th>\n",
       "      <th>Genre</th>\n",
       "      <th>description</th>\n",
       "    </tr>\n",
       "  </thead>\n",
       "  <tbody>\n",
       "    <tr>\n",
       "      <th>0</th>\n",
       "      <td>s1</td>\n",
       "      <td>Movie</td>\n",
       "      <td>Duck the Halls: A Mickey Mouse Christmas Special</td>\n",
       "      <td>Alonso Ramirez Ramos, Dave Wasson</td>\n",
       "      <td>Chris Diamantopoulos, Tony Anselmo, Tress MacN...</td>\n",
       "      <td>United States</td>\n",
       "      <td>26-Nov-21</td>\n",
       "      <td>2016</td>\n",
       "      <td>TV-G</td>\n",
       "      <td>23 min</td>\n",
       "      <td>Animation, Family</td>\n",
       "      <td>Join Mickey and the gang as they duck the halls!</td>\n",
       "    </tr>\n",
       "    <tr>\n",
       "      <th>1</th>\n",
       "      <td>s2</td>\n",
       "      <td>Movie</td>\n",
       "      <td>Ernest Saves Christmas</td>\n",
       "      <td>John Cherry</td>\n",
       "      <td>Jim Varney, Noelle Parker, Douglas Seale</td>\n",
       "      <td>United States</td>\n",
       "      <td>26-Nov-21</td>\n",
       "      <td>1988</td>\n",
       "      <td>PG</td>\n",
       "      <td>91 min</td>\n",
       "      <td>Comedy</td>\n",
       "      <td>Santa Claus passes his magic bag to a new St. ...</td>\n",
       "    </tr>\n",
       "    <tr>\n",
       "      <th>2</th>\n",
       "      <td>s3</td>\n",
       "      <td>Movie</td>\n",
       "      <td>Ice Age: A Mammoth Christmas</td>\n",
       "      <td>Karen Disher</td>\n",
       "      <td>Raymond Albert Romano, John Leguizamo, Denis L...</td>\n",
       "      <td>United States</td>\n",
       "      <td>26-Nov-21</td>\n",
       "      <td>2011</td>\n",
       "      <td>TV-G</td>\n",
       "      <td>23 min</td>\n",
       "      <td>Animation, Comedy, Family</td>\n",
       "      <td>Sid the Sloth is on Santa's naughty list.</td>\n",
       "    </tr>\n",
       "    <tr>\n",
       "      <th>3</th>\n",
       "      <td>s4</td>\n",
       "      <td>Movie</td>\n",
       "      <td>The Queen Family Singalong</td>\n",
       "      <td>Hamish Hamilton</td>\n",
       "      <td>Darren Criss, Adam Lambert, Derek Hough, Alexa...</td>\n",
       "      <td>United States</td>\n",
       "      <td>26-Nov-21</td>\n",
       "      <td>2021</td>\n",
       "      <td>TV-PG</td>\n",
       "      <td>41 min</td>\n",
       "      <td>Musical</td>\n",
       "      <td>This is real life, not just fantasy!</td>\n",
       "    </tr>\n",
       "    <tr>\n",
       "      <th>5</th>\n",
       "      <td>s6</td>\n",
       "      <td>Movie</td>\n",
       "      <td>Becoming Cousteau</td>\n",
       "      <td>Liz Garbus</td>\n",
       "      <td>Jacques Yves Cousteau, Vincent Cassel</td>\n",
       "      <td>United States</td>\n",
       "      <td>24-Nov-21</td>\n",
       "      <td>2021</td>\n",
       "      <td>PG-13</td>\n",
       "      <td>94 min</td>\n",
       "      <td>Biographical, Documentary</td>\n",
       "      <td>An inside look at the legendary life of advent...</td>\n",
       "    </tr>\n",
       "    <tr>\n",
       "      <th>...</th>\n",
       "      <td>...</td>\n",
       "      <td>...</td>\n",
       "      <td>...</td>\n",
       "      <td>...</td>\n",
       "      <td>...</td>\n",
       "      <td>...</td>\n",
       "      <td>...</td>\n",
       "      <td>...</td>\n",
       "      <td>...</td>\n",
       "      <td>...</td>\n",
       "      <td>...</td>\n",
       "      <td>...</td>\n",
       "    </tr>\n",
       "    <tr>\n",
       "      <th>1445</th>\n",
       "      <td>s1446</td>\n",
       "      <td>Movie</td>\n",
       "      <td>X-Men Origins: Wolverine</td>\n",
       "      <td>Gavin Hood</td>\n",
       "      <td>Hugh Jackman, Liev Schreiber, Danny Huston, wi...</td>\n",
       "      <td>United States, United Kingdom</td>\n",
       "      <td>4-Jun-21</td>\n",
       "      <td>2009</td>\n",
       "      <td>PG-13</td>\n",
       "      <td>108 min</td>\n",
       "      <td>Action-Adventure, Family, Science Fiction</td>\n",
       "      <td>Wolverine unites with legendary X-Men to fight...</td>\n",
       "    </tr>\n",
       "    <tr>\n",
       "      <th>1446</th>\n",
       "      <td>s1447</td>\n",
       "      <td>Movie</td>\n",
       "      <td>Night at the Museum: Battle of the Smithsonian</td>\n",
       "      <td>Shawn Levy</td>\n",
       "      <td>Ben Stiller, Amy Adams, Owen Wilson, Hank Azar...</td>\n",
       "      <td>United States, Canada</td>\n",
       "      <td>2-Apr-21</td>\n",
       "      <td>2009</td>\n",
       "      <td>PG</td>\n",
       "      <td>106 min</td>\n",
       "      <td>Action-Adventure, Comedy, Family</td>\n",
       "      <td>Larry Daley returns to rescue some old friends...</td>\n",
       "    </tr>\n",
       "    <tr>\n",
       "      <th>1447</th>\n",
       "      <td>s1448</td>\n",
       "      <td>Movie</td>\n",
       "      <td>Eddie the Eagle</td>\n",
       "      <td>Dexter Fletcher</td>\n",
       "      <td>Tom Costello, Jo Hartley, Keith Allen, Dickon ...</td>\n",
       "      <td>United Kingdom, Germany, United States</td>\n",
       "      <td>18-Dec-20</td>\n",
       "      <td>2016</td>\n",
       "      <td>PG-13</td>\n",
       "      <td>107 min</td>\n",
       "      <td>Biographical, Comedy, Drama</td>\n",
       "      <td>True story of Eddie Edwards, a British ski-jum...</td>\n",
       "    </tr>\n",
       "    <tr>\n",
       "      <th>1448</th>\n",
       "      <td>s1449</td>\n",
       "      <td>Movie</td>\n",
       "      <td>Bend It Like Beckham</td>\n",
       "      <td>Gurinder Chadha</td>\n",
       "      <td>Parminder Nagra, Keira Knightley, Jonathan Rhy...</td>\n",
       "      <td>United Kingdom, Germany, United States</td>\n",
       "      <td>18-Sep-20</td>\n",
       "      <td>2003</td>\n",
       "      <td>PG-13</td>\n",
       "      <td>112 min</td>\n",
       "      <td>Buddy, Comedy, Coming of Age</td>\n",
       "      <td>Despite the wishes of their traditional famili...</td>\n",
       "    </tr>\n",
       "    <tr>\n",
       "      <th>1449</th>\n",
       "      <td>s1450</td>\n",
       "      <td>Movie</td>\n",
       "      <td>Captain Sparky vs. The Flying Saucers</td>\n",
       "      <td>Mark Waring</td>\n",
       "      <td>Charlie Tahan</td>\n",
       "      <td>United States</td>\n",
       "      <td>1-Apr-20</td>\n",
       "      <td>2012</td>\n",
       "      <td>TV-G</td>\n",
       "      <td>2 min</td>\n",
       "      <td>Action-Adventure, Animals &amp; Nature, Animation</td>\n",
       "      <td>View one of Sparky's favorite home movies.</td>\n",
       "    </tr>\n",
       "  </tbody>\n",
       "</table>\n",
       "<p>1051 rows × 12 columns</p>\n",
       "</div>"
      ],
      "text/plain": [
       "     show_id   type                                             title  \\\n",
       "0         s1  Movie  Duck the Halls: A Mickey Mouse Christmas Special   \n",
       "1         s2  Movie                            Ernest Saves Christmas   \n",
       "2         s3  Movie                      Ice Age: A Mammoth Christmas   \n",
       "3         s4  Movie                        The Queen Family Singalong   \n",
       "5         s6  Movie                                 Becoming Cousteau   \n",
       "...      ...    ...                                               ...   \n",
       "1445   s1446  Movie                          X-Men Origins: Wolverine   \n",
       "1446   s1447  Movie    Night at the Museum: Battle of the Smithsonian   \n",
       "1447   s1448  Movie                                   Eddie the Eagle   \n",
       "1448   s1449  Movie                              Bend It Like Beckham   \n",
       "1449   s1450  Movie             Captain Sparky vs. The Flying Saucers   \n",
       "\n",
       "                               director  \\\n",
       "0     Alonso Ramirez Ramos, Dave Wasson   \n",
       "1                           John Cherry   \n",
       "2                          Karen Disher   \n",
       "3                       Hamish Hamilton   \n",
       "5                            Liz Garbus   \n",
       "...                                 ...   \n",
       "1445                         Gavin Hood   \n",
       "1446                         Shawn Levy   \n",
       "1447                    Dexter Fletcher   \n",
       "1448                    Gurinder Chadha   \n",
       "1449                        Mark Waring   \n",
       "\n",
       "                                                   cast  \\\n",
       "0     Chris Diamantopoulos, Tony Anselmo, Tress MacN...   \n",
       "1              Jim Varney, Noelle Parker, Douglas Seale   \n",
       "2     Raymond Albert Romano, John Leguizamo, Denis L...   \n",
       "3     Darren Criss, Adam Lambert, Derek Hough, Alexa...   \n",
       "5                 Jacques Yves Cousteau, Vincent Cassel   \n",
       "...                                                 ...   \n",
       "1445  Hugh Jackman, Liev Schreiber, Danny Huston, wi...   \n",
       "1446  Ben Stiller, Amy Adams, Owen Wilson, Hank Azar...   \n",
       "1447  Tom Costello, Jo Hartley, Keith Allen, Dickon ...   \n",
       "1448  Parminder Nagra, Keira Knightley, Jonathan Rhy...   \n",
       "1449                                      Charlie Tahan   \n",
       "\n",
       "                                     country date_added  release_year rating  \\\n",
       "0                              United States  26-Nov-21          2016   TV-G   \n",
       "1                              United States  26-Nov-21          1988     PG   \n",
       "2                              United States  26-Nov-21          2011   TV-G   \n",
       "3                              United States  26-Nov-21          2021  TV-PG   \n",
       "5                              United States  24-Nov-21          2021  PG-13   \n",
       "...                                      ...        ...           ...    ...   \n",
       "1445           United States, United Kingdom   4-Jun-21          2009  PG-13   \n",
       "1446                   United States, Canada   2-Apr-21          2009     PG   \n",
       "1447  United Kingdom, Germany, United States  18-Dec-20          2016  PG-13   \n",
       "1448  United Kingdom, Germany, United States  18-Sep-20          2003  PG-13   \n",
       "1449                           United States   1-Apr-20          2012   TV-G   \n",
       "\n",
       "     duration                                          Genre  \\\n",
       "0      23 min                              Animation, Family   \n",
       "1      91 min                                         Comedy   \n",
       "2      23 min                      Animation, Comedy, Family   \n",
       "3      41 min                                        Musical   \n",
       "5      94 min                      Biographical, Documentary   \n",
       "...       ...                                            ...   \n",
       "1445  108 min      Action-Adventure, Family, Science Fiction   \n",
       "1446  106 min               Action-Adventure, Comedy, Family   \n",
       "1447  107 min                    Biographical, Comedy, Drama   \n",
       "1448  112 min                   Buddy, Comedy, Coming of Age   \n",
       "1449    2 min  Action-Adventure, Animals & Nature, Animation   \n",
       "\n",
       "                                            description  \n",
       "0      Join Mickey and the gang as they duck the halls!  \n",
       "1     Santa Claus passes his magic bag to a new St. ...  \n",
       "2             Sid the Sloth is on Santa's naughty list.  \n",
       "3                  This is real life, not just fantasy!  \n",
       "5     An inside look at the legendary life of advent...  \n",
       "...                                                 ...  \n",
       "1445  Wolverine unites with legendary X-Men to fight...  \n",
       "1446  Larry Daley returns to rescue some old friends...  \n",
       "1447  True story of Eddie Edwards, a British ski-jum...  \n",
       "1448  Despite the wishes of their traditional famili...  \n",
       "1449         View one of Sparky's favorite home movies.  \n",
       "\n",
       "[1051 rows x 12 columns]"
      ]
     },
     "execution_count": 29,
     "metadata": {},
     "output_type": "execute_result"
    }
   ],
   "source": [
    "df_movie=df[df[\"type\"]==\"Movie\"]\n",
    "df_movie"
   ]
  },
  {
   "cell_type": "code",
   "execution_count": 30,
   "id": "0f3e65e5-8f0e-47a5-a148-c7e046e66ad9",
   "metadata": {
    "tags": []
   },
   "outputs": [
    {
     "data": {
      "text/html": [
       "<div>\n",
       "<style scoped>\n",
       "    .dataframe tbody tr th:only-of-type {\n",
       "        vertical-align: middle;\n",
       "    }\n",
       "\n",
       "    .dataframe tbody tr th {\n",
       "        vertical-align: top;\n",
       "    }\n",
       "\n",
       "    .dataframe thead th {\n",
       "        text-align: right;\n",
       "    }\n",
       "</style>\n",
       "<table border=\"1\" class=\"dataframe\">\n",
       "  <thead>\n",
       "    <tr style=\"text-align: right;\">\n",
       "      <th></th>\n",
       "      <th>index</th>\n",
       "      <th>title</th>\n",
       "      <th>release_year</th>\n",
       "    </tr>\n",
       "  </thead>\n",
       "  <tbody>\n",
       "    <tr>\n",
       "      <th>0</th>\n",
       "      <td>1220</td>\n",
       "      <td>Steamboat Willie</td>\n",
       "      <td>1928</td>\n",
       "    </tr>\n",
       "    <tr>\n",
       "      <th>1</th>\n",
       "      <td>736</td>\n",
       "      <td>Babes in the Woods</td>\n",
       "      <td>1932</td>\n",
       "    </tr>\n",
       "    <tr>\n",
       "      <th>2</th>\n",
       "      <td>1178</td>\n",
       "      <td>Santa's Workshop</td>\n",
       "      <td>1932</td>\n",
       "    </tr>\n",
       "    <tr>\n",
       "      <th>3</th>\n",
       "      <td>893</td>\n",
       "      <td>Flowers and Trees</td>\n",
       "      <td>1932</td>\n",
       "    </tr>\n",
       "    <tr>\n",
       "      <th>4</th>\n",
       "      <td>1418</td>\n",
       "      <td>Ye Olden Days</td>\n",
       "      <td>1933</td>\n",
       "    </tr>\n",
       "    <tr>\n",
       "      <th>5</th>\n",
       "      <td>1362</td>\n",
       "      <td>Three Little Pigs</td>\n",
       "      <td>1933</td>\n",
       "    </tr>\n",
       "    <tr>\n",
       "      <th>6</th>\n",
       "      <td>1317</td>\n",
       "      <td>The Pied Piper</td>\n",
       "      <td>1933</td>\n",
       "    </tr>\n",
       "    <tr>\n",
       "      <th>7</th>\n",
       "      <td>1279</td>\n",
       "      <td>The Goddess of Spring</td>\n",
       "      <td>1934</td>\n",
       "    </tr>\n",
       "    <tr>\n",
       "      <th>8</th>\n",
       "      <td>1356</td>\n",
       "      <td>The Wise Little Hen</td>\n",
       "      <td>1934</td>\n",
       "    </tr>\n",
       "    <tr>\n",
       "      <th>9</th>\n",
       "      <td>922</td>\n",
       "      <td>Grasshopper and the Ants</td>\n",
       "      <td>1934</td>\n",
       "    </tr>\n",
       "  </tbody>\n",
       "</table>\n",
       "</div>"
      ],
      "text/plain": [
       "   index                     title  release_year\n",
       "0   1220          Steamboat Willie          1928\n",
       "1    736        Babes in the Woods          1932\n",
       "2   1178          Santa's Workshop          1932\n",
       "3    893         Flowers and Trees          1932\n",
       "4   1418             Ye Olden Days          1933\n",
       "5   1362         Three Little Pigs          1933\n",
       "6   1317            The Pied Piper          1933\n",
       "7   1279     The Goddess of Spring          1934\n",
       "8   1356       The Wise Little Hen          1934\n",
       "9    922  Grasshopper and the Ants          1934"
      ]
     },
     "execution_count": 30,
     "metadata": {},
     "output_type": "execute_result"
    }
   ],
   "source": [
    "df_movie[[\"title\",\"release_year\"]].sort_values(by=[\"release_year\"]).head(10).reset_index()"
   ]
  },
  {
   "cell_type": "markdown",
   "id": "9b234eac-f0ce-4bfd-a214-5f0a3c2f6050",
   "metadata": {},
   "source": [
    "## 2.The oldest 10 TV SHOW"
   ]
  },
  {
   "cell_type": "code",
   "execution_count": 31,
   "id": "e04e3bb0-c69b-4078-b2b1-b063833affa5",
   "metadata": {},
   "outputs": [],
   "source": [
    "df_tvshow=df[df[\"type\"]==\"TV Show\"]"
   ]
  },
  {
   "cell_type": "code",
   "execution_count": 32,
   "id": "1c748138-36a9-4d88-abca-5e2161bdadcc",
   "metadata": {},
   "outputs": [
    {
     "data": {
      "text/html": [
       "<div>\n",
       "<style scoped>\n",
       "    .dataframe tbody tr th:only-of-type {\n",
       "        vertical-align: middle;\n",
       "    }\n",
       "\n",
       "    .dataframe tbody tr th {\n",
       "        vertical-align: top;\n",
       "    }\n",
       "\n",
       "    .dataframe thead th {\n",
       "        text-align: right;\n",
       "    }\n",
       "</style>\n",
       "<table border=\"1\" class=\"dataframe\">\n",
       "  <thead>\n",
       "    <tr style=\"text-align: right;\">\n",
       "      <th></th>\n",
       "      <th>index</th>\n",
       "      <th>title</th>\n",
       "      <th>release_year</th>\n",
       "    </tr>\n",
       "  </thead>\n",
       "  <tbody>\n",
       "    <tr>\n",
       "      <th>0</th>\n",
       "      <td>1244</td>\n",
       "      <td>The Adventures of Spin and Marty</td>\n",
       "      <td>1955</td>\n",
       "    </tr>\n",
       "    <tr>\n",
       "      <th>1</th>\n",
       "      <td>1071</td>\n",
       "      <td>Mickey Mouse Club (1955-59)</td>\n",
       "      <td>1955</td>\n",
       "    </tr>\n",
       "    <tr>\n",
       "      <th>2</th>\n",
       "      <td>221</td>\n",
       "      <td>Schoolhouse Rock!</td>\n",
       "      <td>1973</td>\n",
       "    </tr>\n",
       "    <tr>\n",
       "      <th>3</th>\n",
       "      <td>299</td>\n",
       "      <td>The Muppet Show</td>\n",
       "      <td>1976</td>\n",
       "    </tr>\n",
       "    <tr>\n",
       "      <th>4</th>\n",
       "      <td>1207</td>\n",
       "      <td>Spider-Woman</td>\n",
       "      <td>1979</td>\n",
       "    </tr>\n",
       "    <tr>\n",
       "      <th>5</th>\n",
       "      <td>1205</td>\n",
       "      <td>Spider-Man and His Amazing Friends</td>\n",
       "      <td>1982</td>\n",
       "    </tr>\n",
       "    <tr>\n",
       "      <th>6</th>\n",
       "      <td>195</td>\n",
       "      <td>Star Wars Vintage: Droids</td>\n",
       "      <td>1985</td>\n",
       "    </tr>\n",
       "    <tr>\n",
       "      <th>7</th>\n",
       "      <td>267</td>\n",
       "      <td>Star Wars: Ewoks</td>\n",
       "      <td>1985</td>\n",
       "    </tr>\n",
       "    <tr>\n",
       "      <th>8</th>\n",
       "      <td>841</td>\n",
       "      <td>Disney's Adventures Of The Gummi Bears</td>\n",
       "      <td>1985</td>\n",
       "    </tr>\n",
       "    <tr>\n",
       "      <th>9</th>\n",
       "      <td>1312</td>\n",
       "      <td>The New Adventures of Winnie the Pooh</td>\n",
       "      <td>1988</td>\n",
       "    </tr>\n",
       "  </tbody>\n",
       "</table>\n",
       "</div>"
      ],
      "text/plain": [
       "   index                                   title  release_year\n",
       "0   1244        The Adventures of Spin and Marty          1955\n",
       "1   1071             Mickey Mouse Club (1955-59)          1955\n",
       "2    221                       Schoolhouse Rock!          1973\n",
       "3    299                         The Muppet Show          1976\n",
       "4   1207                            Spider-Woman          1979\n",
       "5   1205      Spider-Man and His Amazing Friends          1982\n",
       "6    195               Star Wars Vintage: Droids          1985\n",
       "7    267                        Star Wars: Ewoks          1985\n",
       "8    841  Disney's Adventures Of The Gummi Bears          1985\n",
       "9   1312   The New Adventures of Winnie the Pooh          1988"
      ]
     },
     "execution_count": 32,
     "metadata": {},
     "output_type": "execute_result"
    }
   ],
   "source": [
    "df_tvshow[[\"title\",\"release_year\"]].sort_values(by=[\"release_year\"]).head(10).reset_index()"
   ]
  },
  {
   "cell_type": "markdown",
   "id": "b4b78bdd-6c0c-4200-9d02-b7cea278f785",
   "metadata": {},
   "source": [
    "## **3. Distribution of Top 10 Movie Duration**"
   ]
  },
  {
   "cell_type": "code",
   "execution_count": 33,
   "id": "88688b0a-2400-42e0-8538-6b00519cd6d8",
   "metadata": {},
   "outputs": [
    {
     "data": {
      "text/plain": [
       "1 Season     217\n",
       "2 Seasons     81\n",
       "3 Seasons     43\n",
       "44 min        42\n",
       "7 min         42\n",
       "8 min         41\n",
       "9 min         33\n",
       "45 min        31\n",
       "94 min        28\n",
       "93 min        27\n",
       "Name: duration, dtype: int64"
      ]
     },
     "execution_count": 33,
     "metadata": {},
     "output_type": "execute_result"
    }
   ],
   "source": [
    "df[\"duration\"].value_counts().head(10)"
   ]
  },
  {
   "cell_type": "code",
   "execution_count": 34,
   "id": "da4a53fc-773c-49c2-8693-8e5b055a7fc1",
   "metadata": {},
   "outputs": [
    {
     "data": {
      "image/png": "[encoded data removed]",
      "text/plain": [
       "<Figure size 500x800 with 1 Axes>"
      ]
     },
     "metadata": {},
     "output_type": "display_data"
    }
   ],
   "source": [
    "plt.figure(figsize=(5,8))\n",
    "plt.pie(df[\"duration\"].value_counts().head(10), labels=df[\"duration\"].value_counts().head(10).index, autopct='%.0f%%')\n",
    "plt.title('Movie Duration Distribution', fontsize=16)\n",
    "plt.show()\n"
   ]
  },
  {
   "cell_type": "markdown",
   "id": "3aff7ae2-d1d3-466c-8870-1687d2eb9536",
   "metadata": {},
   "source": [
    "## **4.Growth in content over the years**"
   ]
  },
  {
   "cell_type": "code",
   "execution_count": 35,
   "id": "a9d4b29e-78cf-42f8-a161-0486a6d55d4e",
   "metadata": {},
   "outputs": [
    {
     "data": {
      "text/plain": [
       "2021    123\n",
       "2020    114\n",
       "2019     98\n",
       "2017     69\n",
       "2018     65\n",
       "       ... \n",
       "1928      1\n",
       "1944      1\n",
       "1970      1\n",
       "1945      1\n",
       "1968      1\n",
       "Name: release_year, Length: 90, dtype: int64"
      ]
     },
     "execution_count": 35,
     "metadata": {},
     "output_type": "execute_result"
    }
   ],
   "source": [
    "df[\"release_year\"].value_counts()"
   ]
  },
  {
   "cell_type": "code",
   "execution_count": 36,
   "id": "a7239deb-013a-4067-9f16-c619fd87ade9",
   "metadata": {},
   "outputs": [
    {
     "data": {
      "text/plain": [
       "<Axes: xlabel='release_year', ylabel='Count'>"
      ]
     },
     "execution_count": 36,
     "metadata": {},
     "output_type": "execute_result"
    },
    {
     "data": {
      "image/png": "[encoded data removed]",
      "text/plain": [
       "<Figure size 640x480 with 1 Axes>"
      ]
     },
     "metadata": {},
     "output_type": "display_data"
    }
   ],
   "source": [
    "sns.histplot(data=df,x=\"release_year\",hue=\"type\",kde=True)"
   ]
  },
  {
   "cell_type": "markdown",
   "id": "52bfb2fb-466d-47e9-a48a-2396ab4abe7a",
   "metadata": {},
   "source": [
    "## **5. What are the top Categories**"
   ]
  },
  {
   "cell_type": "markdown",
   "id": "c6dbc773-9183-4cc0-bf97-0da46ac94bf9",
   "metadata": {},
   "source": [
    "### Highest movie maker director "
   ]
  },
  {
   "cell_type": "code",
   "execution_count": 37,
   "id": "f4d5965d-8a6d-4bab-9dd0-89d369b07706",
   "metadata": {},
   "outputs": [
    {
     "data": {
      "text/plain": [
       "Animation, Comedy, Family                        124\n",
       "Action-Adventure, Animation, Comedy               77\n",
       "Action-Adventure, Animation, Kids                 45\n",
       "Animals & Nature, Documentary, Family             40\n",
       "Action-Adventure, Animation, Family               40\n",
       "                                                ... \n",
       "Biographical, Coming of Age, Drama                 1\n",
       "Docuseries, Family, Lifestyle                      1\n",
       "Comedy, Fantasy, Romance                           1\n",
       "Buddy, Comedy, Drama                               1\n",
       "Action-Adventure, Animals & Nature, Animation      1\n",
       "Name: Genre, Length: 328, dtype: int64"
      ]
     },
     "execution_count": 37,
     "metadata": {},
     "output_type": "execute_result"
    }
   ],
   "source": [
    "df[\"Genre\"].value_counts()"
   ]
  },
  {
   "cell_type": "code",
   "execution_count": 38,
   "id": "5f1bd64e-6b5a-47e8-84b9-abdedc146d28",
   "metadata": {},
   "outputs": [],
   "source": [
    "content=[]\n",
    "for i in df[\"Genre\"]:\n",
    "    # print (i.split(\",\"))\n",
    "    for j in i.split(\",\"):\n",
    "        # print(j)\n",
    "        content.append(j.split(\",\"))"
   ]
  },
  {
   "cell_type": "code",
   "execution_count": 39,
   "id": "4a8ff94e-f676-4c83-abd0-e913829d2bc1",
   "metadata": {},
   "outputs": [],
   "source": [
    "content1=pd.DataFrame(content)\n"
   ]
  },
  {
   "cell_type": "code",
   "execution_count": 40,
   "id": "a06189b3-bc48-4aad-a13f-f764aadb32b8",
   "metadata": {},
   "outputs": [
    {
     "data": {
      "image/png": "[encoded data removed]",
      "text/plain": [
       "<Figure size 1200x600 with 1 Axes>"
      ]
     },
     "metadata": {},
     "output_type": "display_data"
    }
   ],
   "source": [
    "plt.figure(figsize=(12,6))\n",
    "content1.value_counts().plot(kind=\"bar\")\n",
    "plt.xlabel(\"Genre title\")\n",
    "plt.ylabel(\"count\")\n",
    "plt.title(\"top Categories \")\n",
    "plt.xticks(fontsize=12,color=\"darkviolet\")\n",
    "plt.show()"
   ]
  },
  {
   "cell_type": "markdown",
   "id": "4de4d9c7-4594-46cc-ba67-67a7d6eaac53",
   "metadata": {},
   "source": [
    "## **6. In which month,the content is added the most?**"
   ]
  },
  {
   "cell_type": "code",
   "execution_count": 41,
   "id": "dd33b5cc-7202-4ed0-8171-3629ebcdfaba",
   "metadata": {},
   "outputs": [],
   "source": [
    "df_date=df.copy()"
   ]
  },
  {
   "cell_type": "code",
   "execution_count": 42,
   "id": "6da1b2d4-0299-4851-80db-c395ab021064",
   "metadata": {},
   "outputs": [],
   "source": [
    "df_date[\"date_added\"] = pd.to_datetime(df_date['date_added'])"
   ]
  },
  {
   "cell_type": "code",
   "execution_count": 43,
   "id": "dc02fb72-64e3-4f13-985e-b56e89781e13",
   "metadata": {},
   "outputs": [
    {
     "data": {
      "text/plain": [
       "0      2021-11-26\n",
       "1      2021-11-26\n",
       "2      2021-11-26\n",
       "3      2021-11-26\n",
       "5      2021-11-24\n",
       "          ...    \n",
       "1445   2021-06-04\n",
       "1446   2021-04-02\n",
       "1447   2020-12-18\n",
       "1448   2020-09-18\n",
       "1449   2020-04-01\n",
       "Name: date_added, Length: 1444, dtype: datetime64[ns]"
      ]
     },
     "execution_count": 43,
     "metadata": {},
     "output_type": "execute_result"
    }
   ],
   "source": [
    "df_date[\"date_added\"]"
   ]
  },
  {
   "cell_type": "code",
   "execution_count": 44,
   "id": "984746ca-b610-44ef-98b0-28ed24801fe2",
   "metadata": {},
   "outputs": [
    {
     "data": {
      "text/plain": [
       "<Axes: >"
      ]
     },
     "execution_count": 44,
     "metadata": {},
     "output_type": "execute_result"
    },
    {
     "data": {
      "image/png": "[encoded data removed]",
      "text/plain": [
       "<Figure size 640x480 with 1 Axes>"
      ]
     },
     "metadata": {},
     "output_type": "display_data"
    }
   ],
   "source": [
    "df_date['year_added'] = df_date['date_added'].dt.year\n",
    "df_date['month_added'] = df_date['date_added'].dt.month\n",
    "df_date['month_added'].unique()\n",
    "df_date['month_added'].value_counts().plot(kind=\"bar\")\n"
   ]
  },
  {
   "cell_type": "markdown",
   "id": "b212eb64-2e7d-41d0-b6cf-c24f5240700e",
   "metadata": {},
   "source": [
    "### 7. Movies were released after 2005 that were comedy and family oriented"
   ]
  },
  {
   "cell_type": "code",
   "execution_count": 45,
   "id": "e9ffebeb-3a33-42e8-a2f6-8aecbe0e23af",
   "metadata": {},
   "outputs": [
    {
     "name": "stderr",
     "output_type": "stream",
     "text": [
      "C:\\Users\\Admin\\AppData\\Local\\Temp\\ipykernel_8560\\334597789.py:1: UserWarning: Boolean Series key will be reindexed to match DataFrame index.\n",
      "  df_new=df_movie[[\"title\",'release_year']][df_movie[\"release_year\"]>=2005][df_movie[\"Genre\"]==\"Comedy, Family\"]\n"
     ]
    },
    {
     "data": {
      "text/html": [
       "<div>\n",
       "<style scoped>\n",
       "    .dataframe tbody tr th:only-of-type {\n",
       "        vertical-align: middle;\n",
       "    }\n",
       "\n",
       "    .dataframe tbody tr th {\n",
       "        vertical-align: top;\n",
       "    }\n",
       "\n",
       "    .dataframe thead th {\n",
       "        text-align: right;\n",
       "    }\n",
       "</style>\n",
       "<table border=\"1\" class=\"dataframe\">\n",
       "  <thead>\n",
       "    <tr style=\"text-align: right;\">\n",
       "      <th></th>\n",
       "      <th>title</th>\n",
       "      <th>release_year</th>\n",
       "    </tr>\n",
       "  </thead>\n",
       "  <tbody>\n",
       "    <tr>\n",
       "      <th>23</th>\n",
       "      <td>Home Sweet Home Alone</td>\n",
       "      <td>2021</td>\n",
       "    </tr>\n",
       "    <tr>\n",
       "      <th>44</th>\n",
       "      <td>Jingle All the Way 2</td>\n",
       "      <td>2014</td>\n",
       "    </tr>\n",
       "    <tr>\n",
       "      <th>296</th>\n",
       "      <td>Cheaper by the Dozen 2</td>\n",
       "      <td>2005</td>\n",
       "    </tr>\n",
       "    <tr>\n",
       "      <th>431</th>\n",
       "      <td>Magic Camp</td>\n",
       "      <td>2020</td>\n",
       "    </tr>\n",
       "    <tr>\n",
       "      <th>467</th>\n",
       "      <td>Diary of a Wimpy Kid: The Long Haul</td>\n",
       "      <td>2017</td>\n",
       "    </tr>\n",
       "    <tr>\n",
       "      <th>480</th>\n",
       "      <td>Diary of a Wimpy Kid: Rodrick Rules</td>\n",
       "      <td>2011</td>\n",
       "    </tr>\n",
       "    <tr>\n",
       "      <th>812</th>\n",
       "      <td>Diary Of A Wimpy Kid</td>\n",
       "      <td>2010</td>\n",
       "    </tr>\n",
       "  </tbody>\n",
       "</table>\n",
       "</div>"
      ],
      "text/plain": [
       "                                   title  release_year\n",
       "23                 Home Sweet Home Alone          2021\n",
       "44                  Jingle All the Way 2          2014\n",
       "296               Cheaper by the Dozen 2          2005\n",
       "431                           Magic Camp          2020\n",
       "467  Diary of a Wimpy Kid: The Long Haul          2017\n",
       "480  Diary of a Wimpy Kid: Rodrick Rules          2011\n",
       "812                 Diary Of A Wimpy Kid          2010"
      ]
     },
     "execution_count": 45,
     "metadata": {},
     "output_type": "execute_result"
    }
   ],
   "source": [
    "df_new=df_movie[[\"title\",'release_year']][df_movie[\"release_year\"]>=2005][df_movie[\"Genre\"]==\"Comedy, Family\"]\n",
    "df_new\n"
   ]
  }
 ],
 "metadata": {
  "kernelspec": {
   "display_name": "Python 3 (ipykernel)",
   "language": "python",
   "name": "python3"
  },
  "language_info": {
   "codemirror_mode": {
    "name": "ipython",
    "version": 3
   },
   "file_extension": ".py",
   "mimetype": "text/x-python",
   "name": "python",
   "nbconvert_exporter": "python",
   "pygments_lexer": "ipython3",
   "version": "3.10.9"
  }
 },
 "nbformat": 4,
 "nbformat_minor": 5
}
